{
 "cells": [
  {
   "cell_type": "code",
   "execution_count": 1,
   "id": "92139319-1f0c-429a-adac-cbea426d8cf1",
   "metadata": {},
   "outputs": [],
   "source": [
    "import pandas as pd\n",
    "import numpy as np\n",
    "import requests\n",
    "import json\n",
    "pd.options.mode.chained_assignment = None  # default='warn'"
   ]
  },
  {
   "cell_type": "code",
   "execution_count": 2,
   "id": "6fc79a49-956b-4cc4-bd56-6e47befefa02",
   "metadata": {},
   "outputs": [],
   "source": [
    "query = \"\"\"query Votes {\n",
    "  votes (\n",
    "    first: 5000\n",
    "    where: {\n",
    "      proposal: \"0x2d837678f99d7409fb88650e28ab12b1aa7dabfdb58358be54a9974c98f93b0e\"\n",
    "    }\n",
    "  ) {\n",
    "    voter\n",
    "    created\n",
    "    choice\n",
    "  }\n",
    "}\"\"\""
   ]
  },
  {
   "cell_type": "code",
   "execution_count": 3,
   "id": "8c397142-e78a-4ddd-87f1-09ed2e6ebd78",
   "metadata": {},
   "outputs": [
    {
     "name": "stdout",
     "output_type": "stream",
     "text": [
      "                                         wallet     created  choice\n",
      "0    0xae081d3b0780398a94dac5d70304a2ef6cdbf578  1651071354       1\n",
      "1    0x38d6c6074a667379ce2f6107aad93584fa3ca61a  1651069919       1\n",
      "2    0x1a15f93976a269e6dd4876a0aca782c5aa40bd4a  1651069000       1\n",
      "3    0x9074ea5f241fe4921d37cab16828d7ac296fc0a3  1651069000       1\n",
      "4    0x8ed055644a033861332c1e0658aeeebaa93fbaf9  1651068979       1\n",
      "..                                          ...         ...     ...\n",
      "399  0x349fec9a946ded7f77cd27ee34597d4aa9b1b0fb  1650502477       1\n",
      "400  0xd53a4188e0bda47f655c2aa45b509cf587f39e60  1650502470       1\n",
      "401  0x1ee7d123c5d7856f9fd5feafb167f23fb8edaddd  1650502462       1\n",
      "402  0x5438f01ebba17c7ee279af990d0a8a02267833e4  1650502417       1\n",
      "403  0x73d90db79da0ee77c42cd6014180cb69602a3a22  1650502416       1\n",
      "\n",
      "[404 rows x 3 columns]\n"
     ]
    }
   ],
   "source": [
    "url = 'https://hub.snapshot.org/graphql'\n",
    "r = requests.post(url, json={'query': query})\n",
    "json_data = json.loads(r.text)\n",
    "df_vote_data = json_data['data']['votes']\n",
    "vote_pool = pd.DataFrame(df_vote_data)\n",
    "vote_pool.drop_duplicates(subset=\"voter\",\n",
    "                        inplace=True)\n",
    "vote_pool.rename(columns={'voter': 'wallet'}, inplace=True)\n",
    "vote_pool['wallet'] = vote_pool['wallet'].str.lower()\n",
    "print(vote_pool)"
   ]
  },
  {
   "cell_type": "code",
   "execution_count": 4,
   "id": "53f3b969-db77-4bde-b0ab-df2e2f2580be",
   "metadata": {},
   "outputs": [
    {
     "name": "stdout",
     "output_type": "stream",
     "text": [
      "                                          wallet  num_held\n",
      "80    0x8e8954be3c8b724fcd532a0730fc9d5313bbd23a       200\n",
      "45    0xbaa5853d6d4da05e57a4aa108de55dbe5c769545       173\n",
      "34    0x07c2af75788814ba7e5225b2f5c951ed161cb589       121\n",
      "312   0xe51f06eb0fac25646f793e9c043245148ef36056       111\n",
      "18    0x1f0b28f7182e0a2be93507c2b83e0efa2c61dcfa       106\n",
      "...                                          ...       ...\n",
      "1804  0x95b8f9a70eb16d2a37e6b54d4217da070998886b         1\n",
      "1805  0xc8ee8c4eefa723ff5f6caa0f5bf03e4ff0a9e240         1\n",
      "1809  0xf7d4df98f4be31bf93a0f3175f45e7d69668d2b2         1\n",
      "1812  0xd4a08cf067c83d1b2cc1d26831569b7850804be7         1\n",
      "3768  0x5712876bf545ef063f4a6ef707eab64f06e4c479         1\n",
      "\n",
      "[3769 rows x 2 columns]\n"
     ]
    }
   ],
   "source": [
    "# Import whole list, clean it, and sort by number held\n",
    "whole_list = pd.read_csv(\"pool/snapshot.csv\")\n",
    "whole_list.rename(columns={'address': 'wallet'}, inplace=True)\n",
    "whole_list['wallet'] = whole_list['wallet'].str.lower()\n",
    "whole_list.dropna(axis=0, how='all', inplace=True)\n",
    "whole_list.sort_values(by=['num_held'], inplace=True, ascending=False)\n",
    "print(whole_list)"
   ]
  },
  {
   "cell_type": "code",
   "execution_count": 5,
   "id": "8f2c378a-26e6-4649-9939-4727a572c363",
   "metadata": {},
   "outputs": [
    {
     "name": "stdout",
     "output_type": "stream",
     "text": [
      "                                          wallet  num_held\n",
      "80    0x8e8954be3c8b724fcd532a0730fc9d5313bbd23a       200\n",
      "45    0xbaa5853d6d4da05e57a4aa108de55dbe5c769545       173\n",
      "34    0x07c2af75788814ba7e5225b2f5c951ed161cb589       121\n",
      "312   0xe51f06eb0fac25646f793e9c043245148ef36056       111\n",
      "18    0x1f0b28f7182e0a2be93507c2b83e0efa2c61dcfa       106\n",
      "19    0x8c0ff426dfa77a87be3729456d1d27fdc8f2de5f        80\n",
      "63    0xe052113bd7d7700d623414a0a4585bcae754e9d5        77\n",
      "90    0x9ad85d7c0f7eff3d0718c3a3a032557558f7048b        71\n",
      "340   0xd8b11e3093b6fc08b271d41e7f3dcaf02a66e6b7        65\n",
      "242   0x443fad4c2ea59e9d24c083be0841cee1fbf6a85e        53\n",
      "79    0x726cdc837384a7deb8bbea64beba2e7b4d7346c0        49\n",
      "2527  0x083cf6d6fcf2e42b47976c236f3d0d6f15423019        40\n",
      "445   0x2f65b176b48c85c7a89ed509955817ee468fbff2        36\n",
      "68    0x79758a8326b2ee06c7baf0f075f461367a0b8e32        36\n",
      "20    0x7cbeab8adc6ce442b5640592134af57eef4bb5a5        35\n",
      "70    0x7ee84e6fa0d1199a6527f4de8f0e26b8bdd93ef3        32\n",
      "193   0x3460fb6fec6e51c4315e2e799b4f3e1810f75901        31\n",
      "66    0x8edbcff3e9cbba5b4e584a1fe9f8663ca9936d91        30\n",
      "49    0x6e3aa85db95bba36276a37ed93b12b7ab0782afb        30\n",
      "487   0xc3023ff1771394c8a37f6d75fb0dc152112e74ab        29\n",
      "151   0x14ce500a86f1e3ace039571e657783e069643617        29\n",
      "171   0x4c1fbd894a1725e4397a7c3ed5be899f2ec5e9c2        29\n",
      "273   0x813c55c753d3108b9ea2bd0ea77b33e664506e3c        27\n",
      "357   0xa4407ecacc5f762eeee7eb7a425a8368fc68c0ce        26\n",
      "132   0x02332a565a2940a6483d7db9ec5a5e8226870c59        25\n",
      "364   0x6a42c6821013a7998cf42871a6efbd5d234b6d5b        25\n",
      "97    0x38b6b4387ff2776678e2b42f5eb2af4a452177d7        25\n",
      "253   0x4cc0b3e6f13a91b7c96a20d5b2451ee31d92e37d        23\n",
      "425   0x34383a9f83c86eceb3748fb89fd9be2805c8b02c        23\n",
      "131   0x2975083a05c8ab082e93c9d78fad9d8d8569bce2        23\n",
      "400   0x3e099af007cab8233d44782d8e6fe80fecdc321e        23\n"
     ]
    }
   ],
   "source": [
    "# First 30 addresses are whales\n",
    "whale_list = whole_list.head(31)\n",
    "whale_list.to_csv(\"whitelist/whale_list.csv\", encoding='utf-8', index=False)\n",
    "print(whale_list)"
   ]
  },
  {
   "cell_type": "code",
   "execution_count": 6,
   "id": "4aea1557-3fe8-4578-80e5-8b5b0442e3ac",
   "metadata": {},
   "outputs": [
    {
     "name": "stdout",
     "output_type": "stream",
     "text": [
      "wallet      393\n",
      "num_held    393\n",
      "dtype: int64\n",
      "wallet     404\n",
      "created    404\n",
      "choice     404\n",
      "dtype: int64\n"
     ]
    }
   ],
   "source": [
    "# Remove whales from the rest of the pool and calculate percent ownership\n",
    "general_pool = pd.concat(\n",
    "    [whole_list, whale_list, whale_list]).drop_duplicates(keep=False)\n",
    "\n",
    "general_pool = general_pool[general_pool[\"wallet\"].isin(\n",
    "    vote_pool[\"wallet\"])]\n",
    "print(general_pool.count())\n",
    "print(vote_pool.count())"
   ]
  },
  {
   "cell_type": "code",
   "execution_count": 7,
   "id": "519870eb-bec2-4720-8e6c-e21cfacf9aab",
   "metadata": {},
   "outputs": [
    {
     "name": "stdout",
     "output_type": "stream",
     "text": [
      "                                         wallet     created  choice\n",
      "250  0xeb86f7115eba0469160749ae4268740bcc298727  1650524903       1\n",
      "252  0x8888885f6f07b2ef75bd6bb335c2655f28b7f990  1650523617       1\n",
      "253  0x0007fcf5590179336c826a60c80976623c7bbc29  1650522932       1\n",
      "317  0x46e7e8df488875ad30c31dc7edab152a8921f71b  1650509298       1\n"
     ]
    }
   ],
   "source": [
    "# Checking whos not in the snapshot vote\n",
    "test_pool = vote_pool[~vote_pool[\"wallet\"].isin(\n",
    "    general_pool[\"wallet\"])]\n",
    "\n",
    "test_pool2 = vote_pool[vote_pool[\"wallet\"].isin(whale_list[\"wallet\"])]\n",
    "\n",
    "test_pool3 = test_pool[~test_pool[\"wallet\"].isin(whale_list[\"wallet\"])]\n",
    "\n",
    "# print(test_pool)\n",
    "# print(test_pool2)\n",
    "print(test_pool3)"
   ]
  },
  {
   "cell_type": "code",
   "execution_count": 8,
   "id": "db73da81-89ec-4ce6-a2c7-684a0a4fc76e",
   "metadata": {},
   "outputs": [
    {
     "name": "stdout",
     "output_type": "stream",
     "text": [
      "                                          wallet  num_held  percent_ownership\n",
      "154   0x7c00c9f0e7aed440c0c730a9bd9ee4f49de20d5c        21           0.018700\n",
      "489   0x105be89d26f718b27971d1f2f2a4f082752fed4e        17           0.015138\n",
      "225   0x652aa165ee33ba02570c4fc7d41b0a05b4fd8147        16           0.014248\n",
      "670   0x0770c8d3054d784c42e8010265d8c9ecda5a136b        15           0.013357\n",
      "277   0x2e0d63ffcb08ea20ff3acdbb72dfec97343885d2        15           0.013357\n",
      "...                                          ...       ...                ...\n",
      "1774  0xf7a8c824d939a4833161256e5e110a083397e314         1           0.000890\n",
      "1722  0x0dab205df4ffc8041e370cb4a9f2e819c0c6dfad         1           0.000890\n",
      "1829  0x64f99356d0372ccfd72608f2ca3cdd1966304353         1           0.000890\n",
      "1788  0xfdc4606687e663e5bc841b4ee61f884da4b0f302         1           0.000890\n",
      "1797  0x7361265d31d5b6bbfc2fabe5ae2e2865f1b33245         1           0.000890\n",
      "\n",
      "[393 rows x 3 columns]\n",
      "wallet               0x7c00c9f0e7aed440c0c730a9bd9ee4f49de20d5c0x10...\n",
      "num_held                                                          1123\n",
      "percent_ownership                                                  1.0\n",
      "dtype: object\n"
     ]
    }
   ],
   "source": [
    "general_pool['percent_ownership'] = general_pool['num_held'] / general_pool['num_held'].sum()\n",
    "\n",
    "general_pool.to_csv(\"pool/general_pool.csv\", encoding='utf-8', index=False)\n",
    "print(general_pool)\n",
    "print(general_pool.sum())"
   ]
  },
  {
   "cell_type": "code",
   "execution_count": 9,
   "id": "0e17f151-c563-4c51-a52d-77161860b1d2",
   "metadata": {},
   "outputs": [
    {
     "name": "stdout",
     "output_type": "stream",
     "text": [
      "                                        wallet\n",
      "0   0x60684bb466fdff1202ef427cda2a40e256b79d06\n",
      "1   0xd09b4f164958ab91aff5d0ea90f2ef311320e84a\n",
      "2   0x7c00c9f0e7aed440c0c730a9bd9ee4f49de20d5c\n",
      "3   0xa11cd9e04dc406d6b9ad0c14440afa5bb43d2136\n",
      "4   0xb69902082f133ac170504402fc018075b7e98885\n",
      "5   0x7696a27e0e266e5a5b62aa9521a7061484bc0452\n",
      "6   0xac832857ace7bbe40d94987c76f985f8d6fa0038\n",
      "7   0x2d60c8c081a7ebf0b5ff81e0c738be42ded63931\n",
      "8   0xe38dae19dc781201ee4b312e699cf9cfd31ba28a\n",
      "9   0x60805863de743939f7c2a9a261671643be66cb45\n",
      "10  0x60684bb466fdff1202ef427cda2a40e256b79d06\n",
      "11  0x514c9c0f1bc120f57183bfe4ae092ff0be13a31f\n",
      "12  0x8c646af13f0e5025ae520b8cab3c605ddd4f9f6b\n",
      "13  0xc6b2c9eef42e1d3855a2e139f55060f574ce359d\n",
      "14  0x105be89d26f718b27971d1f2f2a4f082752fed4e\n",
      "15  0xbdff1ba0b06c94f4b447bb4f8d717c2455ba83a7\n",
      "16  0x60684bb466fdff1202ef427cda2a40e256b79d06\n",
      "17  0xf47813a4595c86595311f3dc5bda053ff5b2e6da\n",
      "18  0x39e6e8f6938a819d52be235ff9dd5fdf0a8a422d\n",
      "19  0xa671b4566810f22cc67ff7c52e6f7c0959880af8\n",
      "20  0x6bdac4f8dfda978b26df826ae4ef57f6d3b4f6b7\n",
      "21  0x9d6d6c8f6c138a7c60df5e7aba5fc2d1557cb01c\n",
      "22  0x5fe497271cb5ddbea7ce9d3892b5f21a84f4eeef\n",
      "23  0x17410ac8e1e7c0296d3d1ee82c2bce9cf5250a5c\n",
      "24  0x62dd369d50d91f9b53acf356bd6b6432d48754bd\n"
     ]
    }
   ],
   "source": [
    "np.random.seed(1)\n",
    "holder_draw = np.random.choice(general_pool['wallet'], 25, p=general_pool['percent_ownership'])\n",
    "chosen_holders = pd.DataFrame(holder_draw, columns=['wallet'])\n",
    "chosen_holders.to_csv(\"whitelist/general_list.csv\", encoding='utf-8', index=False)\n",
    "print(chosen_holders)"
   ]
  },
  {
   "cell_type": "code",
   "execution_count": 12,
   "id": "267a73e7-bdbd-4515-91d1-58f7a3d5c749",
   "metadata": {},
   "outputs": [
    {
     "name": "stdout",
     "output_type": "stream",
     "text": [
      "     index                                      wallet\n",
      "0        0  0x75f80337fb32cae15e3ed6b28f50c992b8a868c5\n",
      "1        1  0x2f4ffaa59984d1b72318019b882c181e8232e04b\n",
      "2        2  0x671743fc9b5a9cab29602e8c7fa7373b8f0c5881\n",
      "3        3  0x3ab67a4494c95d0fd93e95dda461557aceea2f4e\n",
      "4        4  0x524d7a3e4530b89a769a566101a9bcfbe1216f11\n",
      "..     ...                                         ...\n",
      "100    100  0xaf644a33988967c4f309d23f4cbcdc47cab1531c\n",
      "101    101  0xde06446e2ab1ea7fccca0828e5029b7920aa6bcf\n",
      "102    102  0x54267d6706f8830e0f47aa18c3598351317adcb5\n",
      "103    103  0x37d1431d5d423d66ad6f369ef1bb0767e71a8400\n",
      "104    104  0x69ec014c15baf1c96620b6ba02a391ababb9c96b\n",
      "\n",
      "[105 rows x 2 columns]\n"
     ]
    }
   ],
   "source": [
    "# Read and clean quest 1 list\n",
    "q1_list = pd.read_csv(\"addresses_csv/q1_subs.csv\")\n",
    "q1_list['wallet'] = q1_list['wallet'].str.lower()\n",
    "q1_list.drop_duplicates(subset=\"wallet\",\n",
    "                        inplace=True)\n",
    "print(q1_list)"
   ]
  },
  {
   "cell_type": "code",
   "execution_count": 13,
   "id": "0079c671-e725-4409-a0db-f021d59de9d0",
   "metadata": {},
   "outputs": [
    {
     "name": "stdout",
     "output_type": "stream",
     "text": [
      "     index                                      wallet\n",
      "0        0  0x76402fc9320ad5603614c043b1fd9e08903fd97c\n",
      "1        1  0x3eaf5182b70fb29f27e89f3e1d78f8c5063ae99d\n",
      "3        3  0x69ec014c15baf1c96620b6ba02a391ababb9c96b\n",
      "5        5  0x232e02988970e8ab920c83964cc7922d9c282dca\n",
      "7        7  0x859183f384fe13b48bc0529162cc98f17ce6e5cd\n",
      "..     ...                                         ...\n",
      "150    150  0x124aefa2fa991c62c3a137369fa8cd076de27b80\n",
      "152    152  0x89eb94fc1ffd00cf9fbdfb1af3a049b8d5ca6b3e\n",
      "154    154  0xe72eeb929e5aa9bb4f6a346376546a19708c100b\n",
      "156    156  0x9e7f94118cf3abe549915aeadca0449ce585e45b\n",
      "160    160  0xb72d0770a64ba320af466c1a405d20788dd2a211\n",
      "\n",
      "[71 rows x 2 columns]\n"
     ]
    }
   ],
   "source": [
    "# Read and clean quest 2 list\n",
    "q2_list = pd.read_csv(\"addresses_csv/q2_subs.csv\")\n",
    "q2_list['wallet'] = q2_list['wallet'].str.lower()\n",
    "q2_list.drop_duplicates(subset=\"wallet\",\n",
    "                        inplace=True)\n",
    "print(q2_list)"
   ]
  },
  {
   "cell_type": "code",
   "execution_count": 14,
   "id": "0841c8de-a94e-468f-a439-29827c9cadcc",
   "metadata": {},
   "outputs": [
    {
     "name": "stdout",
     "output_type": "stream",
     "text": [
      "                                         wallet  num_held\n",
      "0    0x75f80337fb32cae15e3ed6b28f50c992b8a868c5         1\n",
      "1    0x2f4ffaa59984d1b72318019b882c181e8232e04b         1\n",
      "2    0x671743fc9b5a9cab29602e8c7fa7373b8f0c5881         1\n",
      "3    0x3ab67a4494c95d0fd93e95dda461557aceea2f4e         2\n",
      "4    0x524d7a3e4530b89a769a566101a9bcfbe1216f11         1\n",
      "..                                          ...       ...\n",
      "133  0x40ccda91e813fbeb365e4674747046c27cbe596b         1\n",
      "134  0xce2b95f7b8d872b9fb2c403c9d0e4c0c1f6b1dd6         1\n",
      "135  0x89eb94fc1ffd00cf9fbdfb1af3a049b8d5ca6b3e         1\n",
      "136  0xe72eeb929e5aa9bb4f6a346376546a19708c100b         1\n",
      "137  0xb72d0770a64ba320af466c1a405d20788dd2a211         1\n",
      "\n",
      "[138 rows x 2 columns]\n"
     ]
    }
   ],
   "source": [
    "# Concatinate all entries together\n",
    "frames = [q1_list, q2_list]\n",
    "quest_list = pd.merge(q1_list, q2_list, on=\"wallet\", how=\"outer\", indicator=True)\n",
    "quest_list[\"num_held\"] = np.where(quest_list['_merge'] =='both', 2, 1)\n",
    "quest_list.drop(columns=['index_x', 'index_y', '_merge'], inplace=True)\n",
    "print(quest_list)"
   ]
  },
  {
   "cell_type": "code",
   "execution_count": 15,
   "id": "72bc3f3a-147e-4a8a-9f41-d6958ec887e2",
   "metadata": {},
   "outputs": [
    {
     "name": "stdout",
     "output_type": "stream",
     "text": [
      "                                         wallet  num_held\n",
      "0    0x75f80337fb32cae15e3ed6b28f50c992b8a868c5         1\n",
      "1    0x2f4ffaa59984d1b72318019b882c181e8232e04b         1\n",
      "2    0x671743fc9b5a9cab29602e8c7fa7373b8f0c5881         1\n",
      "3    0x3ab67a4494c95d0fd93e95dda461557aceea2f4e         2\n",
      "4    0x524d7a3e4530b89a769a566101a9bcfbe1216f11         1\n",
      "..                                          ...       ...\n",
      "133  0x40ccda91e813fbeb365e4674747046c27cbe596b         1\n",
      "134  0xce2b95f7b8d872b9fb2c403c9d0e4c0c1f6b1dd6         1\n",
      "135  0x89eb94fc1ffd00cf9fbdfb1af3a049b8d5ca6b3e         1\n",
      "136  0xe72eeb929e5aa9bb4f6a346376546a19708c100b         1\n",
      "137  0xb72d0770a64ba320af466c1a405d20788dd2a211         1\n",
      "\n",
      "[138 rows x 2 columns]\n"
     ]
    }
   ],
   "source": [
    "# Remove the whales from the quest list\n",
    "quests_whales_removed = quest_list[~quest_list[\"wallet\"].isin(\n",
    "    whale_list[\"wallet\"])]\n",
    "print(quests_whales_removed)"
   ]
  },
  {
   "cell_type": "code",
   "execution_count": 16,
   "id": "e77ce897-5e5e-40fc-bab8-c4925e4774b1",
   "metadata": {},
   "outputs": [
    {
     "name": "stdout",
     "output_type": "stream",
     "text": [
      "wallet      58\n",
      "num_held    58\n",
      "dtype: int64\n",
      "wallet      136\n",
      "num_held    136\n",
      "dtype: int64\n",
      "                                         wallet  num_held  percent_ownership\n",
      "0    0x75f80337fb32cae15e3ed6b28f50c992b8a868c5         1           0.005780\n",
      "1    0x2f4ffaa59984d1b72318019b882c181e8232e04b         1           0.005780\n",
      "2    0x671743fc9b5a9cab29602e8c7fa7373b8f0c5881         1           0.005780\n",
      "3    0x3ab67a4494c95d0fd93e95dda461557aceea2f4e         2           0.011561\n",
      "4    0x524d7a3e4530b89a769a566101a9bcfbe1216f11         1           0.005780\n",
      "..                                          ...       ...                ...\n",
      "133  0x40ccda91e813fbeb365e4674747046c27cbe596b         1           0.005780\n",
      "134  0xce2b95f7b8d872b9fb2c403c9d0e4c0c1f6b1dd6         1           0.005780\n",
      "135  0x89eb94fc1ffd00cf9fbdfb1af3a049b8d5ca6b3e         1           0.005780\n",
      "136  0xe72eeb929e5aa9bb4f6a346376546a19708c100b         1           0.005780\n",
      "137  0xb72d0770a64ba320af466c1a405d20788dd2a211         1           0.005780\n",
      "\n",
      "[136 rows x 3 columns]\n",
      "wallet               0x75f80337fb32cae15e3ed6b28f50c992b8a868c50x2f...\n",
      "num_held                                                           173\n",
      "percent_ownership                                                  1.0\n",
      "dtype: object\n"
     ]
    }
   ],
   "source": [
    "# Remove the previous winners from the quest list\n",
    "quest_pool = quests_whales_removed[~quests_whales_removed[\"wallet\"].isin(\n",
    "    chosen_holders[\"wallet\"])]\n",
    "\n",
    "test_pool2 = quest_pool[quest_pool[\"wallet\"].isin(\n",
    "    vote_pool[\"wallet\"])]\n",
    "print(test_pool2.count())\n",
    "print(quest_pool.count())\n",
    "\n",
    "quest_pool['percent_ownership'] = quest_pool['num_held'] / quest_pool['num_held'].sum()\n",
    "\n",
    "quest_pool.to_csv(\"pool/quest_pool.csv\", encoding='utf-8', index=False)\n",
    "print(quest_pool)\n",
    "print(quest_pool.sum())"
   ]
  },
  {
   "cell_type": "code",
   "execution_count": 17,
   "id": "44dd73a8-3a02-4cde-987a-6c6e5dbafe09",
   "metadata": {},
   "outputs": [
    {
     "name": "stdout",
     "output_type": "stream",
     "text": [
      "                                        wallet\n",
      "0   0xf18ac3fc6e3817b8fd6467f6d63a84fdd433626b\n",
      "1   0x269d89631ba588a6994bf5a0dccb2a86573781fc\n",
      "2   0xed7498205d0a522528210f963f4bf8e5752df98f\n",
      "3   0x1d4c3b9f8f49d6ac44e398f766f520a3cdb0f3d5\n",
      "4   0x91c242be080de00884cfd8190b1481050f8d7b65\n",
      "5   0x37d1431d5d423d66ad6f369ef1bb0767e71a8400\n",
      "6   0x3e18b56e65ccb82ac6e81a0c18071d1dd644b65b\n",
      "7   0x74307301ee4af8341457f353996f64df8a382362\n",
      "8   0x00bd256b2730fe6e9d523209919b83b806290a3a\n",
      "9   0xde06446e2ab1ea7fccca0828e5029b7920aa6bcf\n",
      "10  0xe407d650db255a3f1509e6abb2a254f28993526c\n",
      "11  0xe50afee4482e3805c65265748bd99293203f2728\n",
      "12  0x4fb2d7d74200bcdbca1157ffa047e8248631d73b\n",
      "13  0xa0fa8f171949430bfb221f8204cf74f659a1e690\n",
      "14  0x54cbed7426d698ba5de35ff553bc160216a43c4a\n",
      "15  0xaa8ebf7eb2f362148293bea3c1c11aeb34d8dcb3\n",
      "16  0xe50afee4482e3805c65265748bd99293203f2728\n",
      "17  0x188664a3fd1eaf75b0e87ee558fbada4aa92c372\n",
      "18  0x17d6c8f47293226462d930baa4f50db6760e5975\n",
      "19  0x701a87fc6ffbb697caac3a48a49bc1fc951d1781\n",
      "20  0x4fb2d7d74200bcdbca1157ffa047e8248631d73b\n",
      "21  0xa93ff05d277d896d10a4172c2dc19d70730e8bdc\n",
      "22  0xb6aa2932e1aa279f5da11c4450683bad037f2486\n",
      "23  0x4fb2d7d74200bcdbca1157ffa047e8248631d73b\n",
      "24  0x269d89631ba588a6994bf5a0dccb2a86573781fc\n",
      "25  0x3abb39e26b8cebb1ccde5d12844e5428b930781b\n",
      "26  0x2c538df2338342037339965c4a97f07a95e4cf38\n",
      "27  0x2bbbdd004556521a49021934c6fe8a137ee6e078\n",
      "28  0x69ec014c15baf1c96620b6ba02a391ababb9c96b\n",
      "29  0xa83fa9c834bb5abe25f9c56eb5845b3203df94f2\n",
      "30  0x91c242be080de00884cfd8190b1481050f8d7b65\n",
      "31  0x2c538df2338342037339965c4a97f07a95e4cf38\n",
      "32  0x232e02988970e8ab920c83964cc7922d9c282dca\n",
      "33  0xc9dc117cac30314fb58f7bc38107a2d36855f71d\n",
      "34  0x3eaf5182b70fb29f27e89f3e1d78f8c5063ae99d\n",
      "35  0x0902c3ef4f176db48c4e340eb861b22759c334d7\n",
      "36  0xc9dc117cac30314fb58f7bc38107a2d36855f71d\n",
      "37  0x24c57556a3f8cdc2cced63ac531ebc9ff234fff2\n",
      "38  0x4644a9afe25b01405b9099c32fbf123f919d4838\n"
     ]
    }
   ],
   "source": [
    "np.random.seed(1599)\n",
    "quest_draw = np.random.choice(quest_pool['wallet'], 39, p=quest_pool['percent_ownership'])\n",
    "chosen_quest = pd.DataFrame(quest_draw, columns=['wallet'])\n",
    "chosen_quest.to_csv(\"whitelist/quest_list.csv\", encoding='utf-8', index=False)\n",
    "print(chosen_quest)"
   ]
  },
  {
   "cell_type": "code",
   "execution_count": 18,
   "id": "b0e4d920-2693-4a8d-b1da-0cba2e34012e",
   "metadata": {},
   "outputs": [
    {
     "name": "stdout",
     "output_type": "stream",
     "text": [
      "                                         wallet allocation\n",
      "80   0x8e8954be3c8b724fcd532a0730fc9d5313bbd23a      whale\n",
      "45   0xbaa5853d6d4da05e57a4aa108de55dbe5c769545      whale\n",
      "34   0x07c2af75788814ba7e5225b2f5c951ed161cb589      whale\n",
      "312  0xe51f06eb0fac25646f793e9c043245148ef36056      whale\n",
      "18   0x1f0b28f7182e0a2be93507c2b83e0efa2c61dcfa      whale\n",
      "..                                          ...        ...\n",
      "34   0x3eaf5182b70fb29f27e89f3e1d78f8c5063ae99d      quest\n",
      "35   0x0902c3ef4f176db48c4e340eb861b22759c334d7      quest\n",
      "36   0xc9dc117cac30314fb58f7bc38107a2d36855f71d      quest\n",
      "37   0x24c57556a3f8cdc2cced63ac531ebc9ff234fff2      quest\n",
      "38   0x4644a9afe25b01405b9099c32fbf123f919d4838      quest\n",
      "\n",
      "[95 rows x 2 columns]\n"
     ]
    }
   ],
   "source": [
    "# Entire whitelist\n",
    "final_wl = pd.concat([whale_list, chosen_holders, chosen_quest], keys=[\"whale\", \"general_holder\", \"quest\"]).reset_index(level=[0])\n",
    "# quest_list = pd.merge(q1_list, q2_list, on=\"wallet\", how=\"outer\", indicator=True)\n",
    "final_wl.drop(columns=['num_held'], inplace=True)\n",
    "final_wl.rename(columns={'level_0': 'allocation'}, inplace=True)\n",
    "final_wl = final_wl[[\"wallet\", \"allocation\"]]\n",
    "final_wl.to_csv(\"final_list.csv\", encoding='utf-8', index=False)\n",
    "print(final_wl)"
   ]
  }
 ],
 "metadata": {
  "kernelspec": {
   "display_name": "Python 3 (ipykernel)",
   "language": "python",
   "name": "python3"
  },
  "language_info": {
   "codemirror_mode": {
    "name": "ipython",
    "version": 3
   },
   "file_extension": ".py",
   "mimetype": "text/x-python",
   "name": "python",
   "nbconvert_exporter": "python",
   "pygments_lexer": "ipython3",
   "version": "3.7.9"
  }
 },
 "nbformat": 4,
 "nbformat_minor": 5
}
